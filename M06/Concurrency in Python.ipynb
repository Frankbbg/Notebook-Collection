{
 "cells": [
  {
   "attachments": {},
   "cell_type": "markdown",
   "metadata": {},
   "source": [
    "This part of the code writes the current date to a text file."
   ]
  },
  {
   "cell_type": "code",
   "execution_count": 8,
   "metadata": {},
   "outputs": [],
   "source": [
    "import datetime\n",
    "\n",
    "with open(\"today.txt\", 'w') as f:\n",
    "    f.write(datetime.datetime.now().ctime())"
   ]
  },
  {
   "attachments": {},
   "cell_type": "markdown",
   "metadata": {},
   "source": [
    "Read the date from the text file into `today_string`"
   ]
  },
  {
   "cell_type": "code",
   "execution_count": 9,
   "metadata": {},
   "outputs": [],
   "source": [
    "with open(\"today.txt\", 'r') as f:\n",
    "    today_string = f.read()"
   ]
  },
  {
   "attachments": {},
   "cell_type": "markdown",
   "metadata": {},
   "source": [
    "This last part parses the date output stored in `today_string` and prints it out in a readable format."
   ]
  },
  {
   "cell_type": "code",
   "execution_count": 10,
   "metadata": {},
   "outputs": [
    {
     "name": "stdout",
     "output_type": "stream",
     "text": [
      "The date is Sat, Apr 29, 2023\n",
      "The time is 17:31 and 19 seconds\n"
     ]
    }
   ],
   "source": [
    "elements = today_string.split(' ')\n",
    "\n",
    "dayName = elements[0]\n",
    "month = elements[1]\n",
    "dayNum = elements[2]\n",
    "time = elements[3]\n",
    "year = elements[4]\n",
    "\n",
    "timeUnits = time.split(':')\n",
    "\n",
    "hours = timeUnits[0]\n",
    "minutes = timeUnits[1]\n",
    "seconds = timeUnits[2]\n",
    "\n",
    "print(f\"The date is {dayName}, {month} {dayNum}, {year}\\nThe time is {hours}:{minutes} and {seconds} seconds\")"
   ]
  },
  {
   "attachments": {},
   "cell_type": "markdown",
   "metadata": {},
   "source": [
    "The last part of the notebook, 15.1, is in a separate file called three-processes.py because apparently it's not possible to multiprocess from Jupyter Notebooks."
   ]
  }
 ],
 "metadata": {
  "kernelspec": {
   "display_name": "Python 3",
   "language": "python",
   "name": "python3"
  },
  "language_info": {
   "codemirror_mode": {
    "name": "ipython",
    "version": 3
   },
   "file_extension": ".py",
   "mimetype": "text/x-python",
   "name": "python",
   "nbconvert_exporter": "python",
   "pygments_lexer": "ipython3",
   "version": "3.11.3"
  },
  "orig_nbformat": 4
 },
 "nbformat": 4,
 "nbformat_minor": 2
}
