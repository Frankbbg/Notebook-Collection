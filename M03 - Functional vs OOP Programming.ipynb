{
 "cells": [
  {
   "attachments": {},
   "cell_type": "markdown",
   "metadata": {},
   "source": [
    "A class called `Thing` is created with no contents and an object called `object` (obviously) is created as well. The printed values are different from each other because one is a class and the other is an object."
   ]
  },
  {
   "cell_type": "code",
   "execution_count": 1,
   "metadata": {},
   "outputs": [
    {
     "name": "stdout",
     "output_type": "stream",
     "text": [
      "<class '__main__.Thing'>\n",
      "<__main__.Thing object at 0x00000276003CD930>\n"
     ]
    }
   ],
   "source": [
    "class Thing:\n",
    "    pass\n",
    "\n",
    "print(Thing)\n",
    "\n",
    "object = Thing()\n",
    "\n",
    "print(object)"
   ]
  },
  {
   "attachments": {},
   "cell_type": "markdown",
   "metadata": {},
   "source": [
    "In this small code snippet, a class called `Element` is defined with three instance variables: `name`, `symbol`, and `number`. An object called `element` is then created using the class. The varibles inputted are \"Hydrogen\", 'H', and 1"
   ]
  },
  {
   "cell_type": "code",
   "execution_count": null,
   "metadata": {},
   "outputs": [],
   "source": [
    "class Element:\n",
    "    def __init__(self, name, symbol, number):\n",
    "        self.name = name\n",
    "        self.symbol = symbol\n",
    "        self.number = number\n",
    "\n",
    "element = Element(\"Hydrogen\", 'H', 1)"
   ]
  },
  {
   "attachments": {},
   "cell_type": "markdown",
   "metadata": {},
   "source": [
    "In this code snippet, we create a new `Element` object called `hydrogen` that uses values from the dictionary `elementProperties` to initialize the object."
   ]
  },
  {
   "cell_type": "code",
   "execution_count": 2,
   "metadata": {},
   "outputs": [],
   "source": [
    "elementProperties = {\n",
    "    \"name\": \"Hydrogen\",\n",
    "    \"symbol\": 'H',\n",
    "    \"number\": 1\n",
    "}\n",
    "\n",
    "hydrogen = Element(elementProperties[\"name\"], elementProperties[\"symbol\"], elementProperties[\"number\"])"
   ]
  },
  {
   "attachments": {},
   "cell_type": "markdown",
   "metadata": {},
   "source": [
    "This program creates three classes: `Bear`, `Rabbit`, and `Octothorpe`. Each class has only one method: `eats()`. This method returns what each one eats. Three objects are created for each respective class, and print statements are there to print the result of the `eats()` function."
   ]
  },
  {
   "cell_type": "code",
   "execution_count": 5,
   "metadata": {},
   "outputs": [
    {
     "name": "stdout",
     "output_type": "stream",
     "text": [
      "berries \n",
      "\n",
      "clover \n",
      "\n",
      "campers \n",
      "\n"
     ]
    }
   ],
   "source": [
    "class Bear:\n",
    "    def eats(self):\n",
    "        return \"berries\"\n",
    "\n",
    "class Rabbit:\n",
    "    def eats(self):\n",
    "        return \"clover\"\n",
    "\n",
    "class Octothorpe:\n",
    "    def eats(self):\n",
    "        return \"campers\"\n",
    "    \n",
    "bear = Bear()\n",
    "print(bear.eats(), \"\\n\")\n",
    "\n",
    "rabbit = Rabbit()\n",
    "print(rabbit.eats(), \"\\n\")\n",
    "\n",
    "octothorpe = Octothorpe()\n",
    "print(octothorpe.eats(), \"\\n\")"
   ]
  }
 ],
 "metadata": {
  "kernelspec": {
   "display_name": "Python 3",
   "language": "python",
   "name": "python3"
  },
  "language_info": {
   "codemirror_mode": {
    "name": "ipython",
    "version": 3
   },
   "file_extension": ".py",
   "mimetype": "text/x-python",
   "name": "python",
   "nbconvert_exporter": "python",
   "pygments_lexer": "ipython3",
   "version": "3.10.11"
  },
  "orig_nbformat": 4
 },
 "nbformat": 4,
 "nbformat_minor": 2
}
