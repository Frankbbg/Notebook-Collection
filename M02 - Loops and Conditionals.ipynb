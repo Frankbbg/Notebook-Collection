{
 "cells": [
  {
   "attachments": {},
   "cell_type": "markdown",
   "metadata": {},
   "source": [
    "This small and simple program finds out if `guess` is higher, lower, or the same as `secret`"
   ]
  },
  {
   "cell_type": "code",
   "execution_count": 2,
   "metadata": {},
   "outputs": [
    {
     "name": "stdout",
     "output_type": "stream",
     "text": [
      "too low\n"
     ]
    }
   ],
   "source": [
    "secret = 4\n",
    "guess = 3\n",
    "\n",
    "if guess > secret:\n",
    "    print('too high')\n",
    "elif guess < secret:\n",
    "    print('too low')\n",
    "else:\n",
    "    print('just right')"
   ]
  },
  {
   "attachments": {},
   "cell_type": "markdown",
   "metadata": {},
   "source": [
    "This program decides what food is selected by using the `bool` classifiers, `small`, and `green`."
   ]
  },
  {
   "cell_type": "code",
   "execution_count": 3,
   "metadata": {},
   "outputs": [
    {
     "name": "stdout",
     "output_type": "stream",
     "text": [
      "watermelon\n"
     ]
    }
   ],
   "source": [
    "small = False\n",
    "green = True\n",
    "\n",
    "if small == False and green == False:\n",
    "    print('pumpkin')\n",
    "elif small == True and green == True:\n",
    "    print('pea')\n",
    "elif small == False and green == True:\n",
    "    print('watermelon')\n",
    "elif small == True and green == False:\n",
    "    print('cherry')"
   ]
  },
  {
   "attachments": {},
   "cell_type": "markdown",
   "metadata": {},
   "source": [
    "Ths simple program prints a countdown from 3 to 0 using a `for` loop."
   ]
  },
  {
   "cell_type": "code",
   "execution_count": 4,
   "metadata": {},
   "outputs": [
    {
     "name": "stdout",
     "output_type": "stream",
     "text": [
      "3\n",
      "2\n",
      "1\n",
      "0\n"
     ]
    }
   ],
   "source": [
    "for countdown in (3, 2, 1, 0):\n",
    "    print(countdown)"
   ]
  },
  {
   "attachments": {},
   "cell_type": "markdown",
   "metadata": {},
   "source": [
    "This short program compares `number` to `guess_me` and tries to figure out if they are equal. If `number` is less than `guess_me`, the program prints 'too low', and then increments the number. Once the number reaches the value of `guess_me`, the program ends. If `number` happens to be greater than `guess_me`, the program instantly ends to avoid an infinite loop."
   ]
  },
  {
   "cell_type": "code",
   "execution_count": 5,
   "metadata": {},
   "outputs": [
    {
     "name": "stdout",
     "output_type": "stream",
     "text": [
      "too low\n",
      "too low\n",
      "too low\n",
      "too low\n",
      "too low\n",
      "too low\n",
      "found it!\n"
     ]
    }
   ],
   "source": [
    "guess_me = 7\n",
    "number = 1\n",
    "\n",
    "while True:\n",
    "    if number < guess_me:\n",
    "        print('too low')\n",
    "    \n",
    "    elif number == guess_me:\n",
    "        print('found it!')\n",
    "        break\n",
    "\n",
    "    elif number > guess_me:\n",
    "        print('oops')\n",
    "        break\n",
    "\n",
    "    number += 1"
   ]
  },
  {
   "attachments": {},
   "cell_type": "markdown",
   "metadata": {},
   "source": [
    "This small program does what the above code does, but in a shorter and more streamlined format. In this program, there is no need to increment `number` because `number` automatically increments as the program moves through the `for` loop."
   ]
  },
  {
   "cell_type": "code",
   "execution_count": 6,
   "metadata": {},
   "outputs": [
    {
     "name": "stdout",
     "output_type": "stream",
     "text": [
      "too low\n",
      "too low\n",
      "too low\n",
      "too low\n",
      "too low\n",
      "found it!\n"
     ]
    }
   ],
   "source": [
    "guess_me = 5\n",
    "\n",
    "for number in range(10):\n",
    "    if number < guess_me:\n",
    "        print('too low')\n",
    "    elif number == guess_me:\n",
    "        print('found it!')\n",
    "        break\n",
    "    elif number > guess_me:\n",
    "        print('oops')\n",
    "        break"
   ]
  }
 ],
 "metadata": {
  "kernelspec": {
   "display_name": "Python 3",
   "language": "python",
   "name": "python3"
  },
  "language_info": {
   "codemirror_mode": {
    "name": "ipython",
    "version": 3
   },
   "file_extension": ".py",
   "mimetype": "text/x-python",
   "name": "python",
   "nbconvert_exporter": "python",
   "pygments_lexer": "ipython3",
   "version": "3.10.10"
  },
  "orig_nbformat": 4
 },
 "nbformat": 4,
 "nbformat_minor": 2
}
