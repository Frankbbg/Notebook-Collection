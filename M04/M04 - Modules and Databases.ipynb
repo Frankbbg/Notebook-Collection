{
 "cells": [
  {
   "attachments": {},
   "cell_type": "markdown",
   "metadata": {},
   "source": [
    "Import the `zoo` module and call its function `hours()`"
   ]
  },
  {
   "cell_type": "code",
   "execution_count": 1,
   "metadata": {},
   "outputs": [
    {
     "name": "stdout",
     "output_type": "stream",
     "text": [
      "Open 9-5 daily\n"
     ]
    }
   ],
   "source": [
    "import zoo\n",
    "\n",
    "zoo.hours()"
   ]
  },
  {
   "attachments": {},
   "cell_type": "markdown",
   "metadata": {},
   "source": [
    "In this example, `zoo` is imported and its name is changed to \"menagerie\""
   ]
  },
  {
   "cell_type": "code",
   "execution_count": 2,
   "metadata": {},
   "outputs": [
    {
     "name": "stdout",
     "output_type": "stream",
     "text": [
      "Open 9-5 daily\n"
     ]
    }
   ],
   "source": [
    "import zoo as menagerie\n",
    "\n",
    "menagerie.hours()"
   ]
  },
  {
   "attachments": {},
   "cell_type": "markdown",
   "metadata": {},
   "source": [
    "This example creates a database using the python libary `sqlite3`. The `connect()` method was called to create and connect to the new database. Next, The `execute()` method is called to execute a SQL statement to perform operations on that database. In this case, the SQL statement creates a database called `books` that contains the title, author, and year fields."
   ]
  },
  {
   "cell_type": "code",
   "execution_count": 3,
   "metadata": {},
   "outputs": [
    {
     "ename": "OperationalError",
     "evalue": "table books already exists",
     "output_type": "error",
     "traceback": [
      "\u001b[1;31m---------------------------------------------------------------------------\u001b[0m",
      "\u001b[1;31mOperationalError\u001b[0m                          Traceback (most recent call last)",
      "Cell \u001b[1;32mIn[3], line 4\u001b[0m\n\u001b[0;32m      1\u001b[0m \u001b[39mimport\u001b[39;00m \u001b[39msqlite3\u001b[39;00m \u001b[39mas\u001b[39;00m \u001b[39msql\u001b[39;00m\n\u001b[0;32m      3\u001b[0m database \u001b[39m=\u001b[39m sql\u001b[39m.\u001b[39mconnect(\u001b[39m\"\u001b[39m\u001b[39mbooks.db\u001b[39m\u001b[39m\"\u001b[39m) \u001b[39m# Create the database\u001b[39;00m\n\u001b[1;32m----> 4\u001b[0m database\u001b[39m.\u001b[39;49mexecute(\u001b[39m\"\u001b[39;49m\u001b[39mCREATE TABLE books(title VARCHAR(64) PRIMARY KEY, author VARCHAR(32), year INT)\u001b[39;49m\u001b[39m\"\u001b[39;49m) \u001b[39m# Create the books table\u001b[39;00m\n",
      "\u001b[1;31mOperationalError\u001b[0m: table books already exists"
     ]
    }
   ],
   "source": [
    "import sqlite3 as sql\n",
    "\n",
    "database = sql.connect(\"books.db\") # Create the database\n",
    "database.execute(\"CREATE TABLE books(title VARCHAR(64) PRIMARY KEY, author VARCHAR(32), year INT)\") # Create the books table"
   ]
  },
  {
   "attachments": {},
   "cell_type": "markdown",
   "metadata": {},
   "source": [
    "This example uses the `csv` module to read the \"books2.csv\" file and separate its contents into a list of lists. Each list within the master list contains the title of the book, its author, and the year. Then, using a for loop, the contents are then inserted into the database using a placeholder `INSERT` statement."
   ]
  },
  {
   "cell_type": "code",
   "execution_count": null,
   "metadata": {},
   "outputs": [
    {
     "ename": "IntegrityError",
     "evalue": "UNIQUE constraint failed: books.title",
     "output_type": "error",
     "traceback": [
      "\u001b[1;31m---------------------------------------------------------------------------\u001b[0m",
      "\u001b[1;31mIntegrityError\u001b[0m                            Traceback (most recent call last)",
      "Cell \u001b[1;32mIn[28], line 9\u001b[0m\n\u001b[0;32m      7\u001b[0m \u001b[39mfor\u001b[39;00m book \u001b[39min\u001b[39;00m books:\n\u001b[0;32m      8\u001b[0m     insertStatement \u001b[39m=\u001b[39m \u001b[39m\"\u001b[39m\u001b[39mINSERT INTO books (title, author, year) VALUES (?, ?, ?)\u001b[39m\u001b[39m\"\u001b[39m\n\u001b[1;32m----> 9\u001b[0m     database\u001b[39m.\u001b[39;49mexecute(insertStatement, (book[\u001b[39m0\u001b[39;49m], book[\u001b[39m1\u001b[39;49m], book[\u001b[39m2\u001b[39;49m]))\n\u001b[0;32m     10\u001b[0m     \u001b[39m# database.execute(f\"INSERT INTO books VALUES({book[0]}, {book[1]}, {book[2]})\")\u001b[39;00m\n",
      "\u001b[1;31mIntegrityError\u001b[0m: UNIQUE constraint failed: books.title"
     ]
    }
   ],
   "source": [
    "import csv\n",
    "\n",
    "with open(\"books2.csv\") as f: # open the CSV file\n",
    "    reader = csv.reader(f) # Grab data from the file\n",
    "    books = [row for row in reader] # Create a mutable list of lists to hold the data\n",
    "\n",
    "for book in books:\n",
    "    # Insert each respective list of data into the database\n",
    "    insertStatement = \"INSERT INTO books (title, author, year) VALUES (?, ?, ?)\"\n",
    "    database.execute(insertStatement, (book[0], book[1], book[2]))\n",
    "    # database.execute(f\"INSERT INTO books VALUES({book[0]}, {book[1]}, {book[2]})\")"
   ]
  },
  {
   "attachments": {},
   "cell_type": "markdown",
   "metadata": {},
   "source": [
    "Use the `sqlalchemy` module to create an engine based on the existing database \"books.db\". This code connects to the engine and performs operations to grab data from the database. The data is then fetched and printed."
   ]
  },
  {
   "cell_type": "code",
   "execution_count": null,
   "metadata": {},
   "outputs": [
    {
     "name": "stdout",
     "output_type": "stream",
     "text": [
      "[]\n"
     ]
    }
   ],
   "source": [
    "import sqlalchemy as sqla\n",
    "\n",
    "# Create the engine from the existing database\n",
    "databaseEngine = sqla.create_engine(\"sqlite:///books.db\")\n",
    "\n",
    "with databaseEngine.connect() as alchemydb: # Connect to the database\n",
    "    # Perform SQL operations on the database to grab data\n",
    "    dbRows = alchemydb.execute(sqla.text(\"SELECT title FROM books\"))\n",
    "\n",
    "rows = dbRows.fetchall() # Get the raw data from the row\n",
    "\n",
    "print(rows) # print the data"
   ]
  }
 ],
 "metadata": {
  "kernelspec": {
   "display_name": "Python 3",
   "language": "python",
   "name": "python3"
  },
  "language_info": {
   "codemirror_mode": {
    "name": "ipython",
    "version": 3
   },
   "file_extension": ".py",
   "mimetype": "text/x-python",
   "name": "python",
   "nbconvert_exporter": "python",
   "pygments_lexer": "ipython3",
   "version": "3.10.11"
  },
  "orig_nbformat": 4
 },
 "nbformat": 4,
 "nbformat_minor": 2
}
